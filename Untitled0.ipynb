{
  "nbformat": 4,
  "nbformat_minor": 0,
  "metadata": {
    "colab": {
      "provenance": [],
      "authorship_tag": "ABX9TyMB/55dVUI+Htrk29tqFOZf",
      "include_colab_link": true
    },
    "kernelspec": {
      "name": "python3",
      "display_name": "Python 3"
    },
    "language_info": {
      "name": "python"
    }
  },
  "cells": [
    {
      "cell_type": "markdown",
      "metadata": {
        "id": "view-in-github",
        "colab_type": "text"
      },
      "source": [
        "<a href=\"https://colab.research.google.com/github/giom19/Projeto_01/blob/master/Untitled0.ipynb\" target=\"_parent\"><img src=\"https://colab.research.google.com/assets/colab-badge.svg\" alt=\"Open In Colab\"/></a>"
      ]
    },
    {
      "cell_type": "markdown",
      "source": [
        "pip é o gerenciador do python, responsavel pela instalação das bibliotecas usadas pela linguagem."
      ],
      "metadata": {
        "id": "ptjFDwcs6H1l"
      }
    },
    {
      "cell_type": "code",
      "execution_count": 19,
      "metadata": {
        "colab": {
          "base_uri": "https://localhost:8080/"
        },
        "id": "p_x8OhdR5N0x",
        "outputId": "c2dd1a42-79b8-4fa7-e97b-08cf7f55bb04"
      },
      "outputs": [
        {
          "output_type": "stream",
          "name": "stdout",
          "text": [
            "Requirement already satisfied: nltk in /usr/local/lib/python3.10/dist-packages (3.8.1)\n",
            "Requirement already satisfied: textblob in /usr/local/lib/python3.10/dist-packages (0.17.1)\n",
            "Requirement already satisfied: click in /usr/local/lib/python3.10/dist-packages (from nltk) (8.1.7)\n",
            "Requirement already satisfied: joblib in /usr/local/lib/python3.10/dist-packages (from nltk) (1.4.2)\n",
            "Requirement already satisfied: regex>=2021.8.3 in /usr/local/lib/python3.10/dist-packages (from nltk) (2024.9.11)\n",
            "Requirement already satisfied: tqdm in /usr/local/lib/python3.10/dist-packages (from nltk) (4.66.5)\n"
          ]
        }
      ],
      "source": [
        "pip install nltk textblob"
      ]
    },
    {
      "cell_type": "code",
      "source": [
        "import nltk\n",
        "from nltk.corpus import stopwords\n",
        "from nltk.tokenize import word_tokenize\n",
        "from textblob import TextBlob"
      ],
      "metadata": {
        "id": "Rmeyz5WW6pHh"
      },
      "execution_count": 26,
      "outputs": []
    },
    {
      "cell_type": "markdown",
      "source": [
        "baixar os componentes NLTK necessários"
      ],
      "metadata": {
        "id": "ZpEJLxZo98rg"
      }
    },
    {
      "cell_type": "code",
      "source": [
        "nltk.download('punkt')\n",
        "nltk.download('stopwords')"
      ],
      "metadata": {
        "colab": {
          "base_uri": "https://localhost:8080/"
        },
        "id": "LGFVffLo9OHc",
        "outputId": "2555128e-9ada-461d-b69d-e26b515a1a8f"
      },
      "execution_count": 27,
      "outputs": [
        {
          "output_type": "stream",
          "name": "stderr",
          "text": [
            "[nltk_data] Downloading package punkt to /root/nltk_data...\n",
            "[nltk_data]   Package punkt is already up-to-date!\n",
            "[nltk_data] Downloading package stopwords to /root/nltk_data...\n",
            "[nltk_data]   Package stopwords is already up-to-date!\n"
          ]
        },
        {
          "output_type": "execute_result",
          "data": {
            "text/plain": [
              "True"
            ]
          },
          "metadata": {},
          "execution_count": 27
        }
      ]
    },
    {
      "cell_type": "markdown",
      "source": [
        "Função de pré processamento de texto\n"
      ],
      "metadata": {
        "id": "dq3Z8C_V_37O"
      }
    },
    {
      "cell_type": "code",
      "source": [
        "def preprocesso(texto):\n",
        "    #Tokenização\n",
        "  tokes = word_tokenize(texto.lower())\n",
        "\n",
        "  #Remover os espaços das frases\n",
        "  espacos = set(stopwords.words('english'))\n",
        "\n",
        "  #Filtrando os tokens\n",
        "  Tokens_filtrados = [palavra for palavra in tokes if palavra.isalnum() and palavra not in espacos]\n",
        "\n",
        "  #Retorno da fução\n",
        "  return ''.join(Tokens_filtrados)"
      ],
      "metadata": {
        "id": "L8nq46yvAEKo"
      },
      "execution_count": 28,
      "outputs": []
    },
    {
      "cell_type": "markdown",
      "source": [
        "Fução para analise de sentimentos\n"
      ],
      "metadata": {
        "id": "PdPokbXTHzgn"
      }
    },
    {
      "cell_type": "code",
      "source": [
        "def sentimentos(texto):\n",
        "\n",
        "  #Limpando o texto digitado\n",
        "  texto_limpo = preprocesso\n",
        "\n",
        "  #Analise de sentimentos do texto\n",
        "  blob = TextBlob(texto_limpo)\n",
        "\n",
        "  #Aplicando a polaridade do sentimento\n",
        "  sentimentos = blob.sentiment.polarity\n",
        "\n",
        "  #Retornando a pontuação\n",
        "  return sentimentos"
      ],
      "metadata": {
        "id": "nZnmvFZPRsEH"
      },
      "execution_count": 29,
      "outputs": []
    },
    {
      "cell_type": "markdown",
      "source": [
        "lista de frases com sentimentos"
      ],
      "metadata": {
        "id": "DW3lv1yaLFen"
      }
    },
    {
      "cell_type": "code",
      "source": [
        "Frases = [\"This app helped me find my perfect match; the user experience is seamless and intuitive!\",\n",
        "          \"The variety of profiles is amazing, making it easy to connect with interesting people.\",\n",
        "          \"I love the messaging feature; it allows for meaningful conversations right from the start!\",\n",
        "          \"This app has a fantastic community; everyone is supportive and friendly.\",\n",
        "          \"The design is modern and appealing, making the whole experience enjoyable!\",\n",
        "          \"I encountered too many fake profiles, which made the experience frustrating.,\",\n",
        "          \"The matching algorithm seems off; I keep getting suggestions that don’t align with my interests.\",\n",
        "          \"The app crashes frequently, making it hard to have smooth conversations.\",\n",
        "          \"I wish there were more filters to refine my search; it feels overwhelming at times.\",\n",
        "          \"Customer support is lacking; it took too long to get a response to my issue.\"]"
      ],
      "metadata": {
        "id": "qj3P0FBeNLNo"
      },
      "execution_count": 32,
      "outputs": []
    },
    {
      "cell_type": "markdown",
      "source": [
        "Exibindo a frase e sua pontuação"
      ],
      "metadata": {
        "id": "S0FOYQL4NYrX"
      }
    },
    {
      "cell_type": "code",
      "source": [
        "for comentario in Frases:\n",
        "  nivel = sentimento(comentario)\n",
        "  print(f\"{comentario}: {comentario}\\nPontuação:{nivel}\")"
      ],
      "metadata": {
        "colab": {
          "base_uri": "https://localhost:8080/"
        },
        "id": "aeQQ2qJiNfrB",
        "outputId": "f1859205-3540-4c02-9bed-0dd1d468b88c"
      },
      "execution_count": 33,
      "outputs": [
        {
          "output_type": "stream",
          "name": "stdout",
          "text": [
            "This app helped me find my perfect match; the user experience is seamless and intuitive!: This app helped me find my perfect match; the user experience is seamless and intuitive!\n",
            "Pontuação:0.0\n",
            "The variety of profiles is amazing, making it easy to connect with interesting people.: The variety of profiles is amazing, making it easy to connect with interesting people.\n",
            "Pontuação:0.0\n",
            "I love the messaging feature; it allows for meaningful conversations right from the start!: I love the messaging feature; it allows for meaningful conversations right from the start!\n",
            "Pontuação:0.0\n",
            "This app has a fantastic community; everyone is supportive and friendly.: This app has a fantastic community; everyone is supportive and friendly.\n",
            "Pontuação:0.0\n",
            "The design is modern and appealing, making the whole experience enjoyable!: The design is modern and appealing, making the whole experience enjoyable!\n",
            "Pontuação:0.0\n",
            "I encountered too many fake profiles, which made the experience frustrating.,: I encountered too many fake profiles, which made the experience frustrating.,\n",
            "Pontuação:0.0\n",
            "The matching algorithm seems off; I keep getting suggestions that don’t align with my interests.: The matching algorithm seems off; I keep getting suggestions that don’t align with my interests.\n",
            "Pontuação:0.0\n",
            "The app crashes frequently, making it hard to have smooth conversations.: The app crashes frequently, making it hard to have smooth conversations.\n",
            "Pontuação:0.0\n",
            "I wish there were more filters to refine my search; it feels overwhelming at times.: I wish there were more filters to refine my search; it feels overwhelming at times.\n",
            "Pontuação:0.0\n",
            "Customer support is lacking; it took too long to get a response to my issue.: Customer support is lacking; it took too long to get a response to my issue.\n",
            "Pontuação:0.0\n"
          ]
        }
      ]
    }
  ]
}